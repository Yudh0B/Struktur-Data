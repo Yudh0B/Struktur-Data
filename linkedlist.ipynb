{
 "cells": [
  {
   "cell_type": "code",
   "execution_count": 26,
   "metadata": {},
   "outputs": [
    {
     "name": "stdout",
     "output_type": "stream",
     "text": [
      "minggu\n",
      "senin\n",
      "selasa\n",
      "rabu\n"
     ]
    }
   ],
   "source": [
    "#membuat class node : data (isi), next(menghubungkan ke node depan), \n",
    "#prev (penghubung ke node belakang)\n",
    "class Node:\n",
    "    #membuat fungsi inisialisasi\n",
    "    def __init__(self, dataval=None):\n",
    "        self.dataval = dataval\n",
    "        self.nextval = None\n",
    "\n",
    "class SLinkedList:\n",
    "    def __init__(self):\n",
    "        self.headval = None\n",
    "\n",
    "# Fungsi menambahkan node baru dibelakang / akhir \n",
    "    def AtEnd(self, newdata):\n",
    "        NewNode = Node(newdata)\n",
    "        if self.headval is None:\n",
    "            self.headval = NewNode\n",
    "            return\n",
    "        laste = self.headval\n",
    "        while(laste.nextval):\n",
    "            laste = laste.nextval\n",
    "        laste.nextval=NewNode\n",
    "\n",
    "# Fungsi menambahkan node diantara node\n",
    "    def Inbetween(self,middle_node,newdata):\n",
    "        if middle_node is None:\n",
    "            print(\"The mentioned node is absent\")\n",
    "            return\n",
    "\n",
    "        NewNode = Node(newdata)\n",
    "        NewNode.nextval = middle_node.nextval\n",
    "        middle_node.nextval = NewNode\n",
    "\n",
    "        \n",
    "# Fungsi menghapus node (remove node)\n",
    "    def RemoveNode(self, Removekey):\n",
    "\n",
    "        HeadVal = self.headval\n",
    "\n",
    "        if (HeadVal is not None):\n",
    "            if (HeadVal.dataval == Removekey):\n",
    "                self.headval = HeadVal.nextval\n",
    "                HeadVal = None\n",
    "                return\n",
    "\n",
    "        while (HeadVal is not None):\n",
    "            if HeadVal.dataval == Removekey:\n",
    "                break\n",
    "            prev = HeadVal\n",
    "            HeadVal = HeadVal.nextval\n",
    "\n",
    "        if (HeadVal == None):\n",
    "            return\n",
    "\n",
    "        prev.nextval = HeadVal.nextval\n",
    "\n",
    "        HeadVal = None\n",
    "\n",
    "# cetak link list \n",
    "    def listprint(self):\n",
    "        printval = self.headval\n",
    "        while printval is not None:\n",
    "            print (printval.dataval)\n",
    "            printval = printval.nextval\n",
    "\n",
    "        \n",
    "#menambahkan node diawal\n",
    "    def AtBegining(self,newdata):  \n",
    "        NewNode = Node(newdata)\n",
    "\n",
    "\n",
    "        \n",
    "# Update node baru ke node berikutnya terhadap node yang sdh ada\n",
    "        NewNode.nextval = self.headval\n",
    "        self.headval = NewNode\n",
    "\n",
    "list = SLinkedList()\n",
    "list.headval = Node(\"senin\")\n",
    "e2 = Node(\"selasa\")\n",
    "e3 = Node(\"rabu\")\n",
    "\n",
    "list.headval.nextval = e2\n",
    "e2.nextval = e3\n",
    "\n",
    "list.AtBegining(\"minggu\")\n",
    "\n",
    "list.listprint()"
   ]
  },
  {
   "cell_type": "code",
   "execution_count": 27,
   "metadata": {},
   "outputs": [
    {
     "name": "stdout",
     "output_type": "stream",
     "text": [
      "sabtu\n",
      "minggu\n",
      "senin\n",
      "selasa\n",
      "rabu\n"
     ]
    }
   ],
   "source": [
    "list.AtBegining(\"sabtu\")\n",
    "list.listprint()"
   ]
  },
  {
   "cell_type": "code",
   "execution_count": 28,
   "metadata": {},
   "outputs": [],
   "source": [
    "#silahkan pelajari dan coba untuk yang lainnya"
   ]
  },
  {
   "cell_type": "code",
   "execution_count": 29,
   "metadata": {},
   "outputs": [
    {
     "name": "stdout",
     "output_type": "stream",
     "text": [
      "sabtu\n",
      "minggu\n",
      "senin\n",
      "selasa\n",
      "rabu\n",
      "kamis\n"
     ]
    }
   ],
   "source": [
    "#menambahkan di akhir\n",
    "list.AtEnd(\"kamis\")\n",
    "\n",
    "list.listprint()"
   ]
  },
  {
   "cell_type": "code",
   "execution_count": 30,
   "metadata": {},
   "outputs": [],
   "source": [
    "#silahkan pelajari dan coba untuk yang lainnya"
   ]
  },
  {
   "cell_type": "code",
   "execution_count": 31,
   "metadata": {},
   "outputs": [
    {
     "name": "stdout",
     "output_type": "stream",
     "text": [
      "sabtu\n",
      "minggu\n",
      "kosong\n",
      "senin\n",
      "selasa\n",
      "rabu\n",
      "kamis\n"
     ]
    }
   ],
   "source": [
    "#menambahkan diantara node\n",
    "list.Inbetween(list.headval.nextval,\"kosong\")\n",
    "\n",
    "list.listprint()"
   ]
  },
  {
   "cell_type": "code",
   "execution_count": 32,
   "metadata": {
    "scrolled": true
   },
   "outputs": [
    {
     "name": "stdout",
     "output_type": "stream",
     "text": [
      "sabtu\n",
      "minggu\n",
      "senin\n",
      "selasa\n",
      "rabu\n",
      "kamis\n"
     ]
    }
   ],
   "source": [
    "#memanggil fungsi remove\n",
    "list.RemoveNode(\"kosong\")\n",
    "list.listprint()"
   ]
  },
  {
   "cell_type": "code",
   "execution_count": null,
   "metadata": {},
   "outputs": [],
   "source": []
  },
  {
   "cell_type": "code",
   "execution_count": null,
   "metadata": {},
   "outputs": [],
   "source": []
  }
 ],
 "metadata": {
  "kernelspec": {
   "display_name": "Python 3",
   "language": "python",
   "name": "python3"
  },
  "language_info": {
   "codemirror_mode": {
    "name": "ipython",
    "version": 3
   },
   "file_extension": ".py",
   "mimetype": "text/x-python",
   "name": "python",
   "nbconvert_exporter": "python",
   "pygments_lexer": "ipython3",
   "version": "3.7.3"
  }
 },
 "nbformat": 4,
 "nbformat_minor": 4
}
