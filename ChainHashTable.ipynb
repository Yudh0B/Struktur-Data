{
 "cells": [
  {
   "cell_type": "code",
   "execution_count": 1,
   "metadata": {},
   "outputs": [
    {
     "name": "stdout",
     "output_type": "stream",
     "text": [
      "Buku Telepon\n",
      "[['Rizal', '081809218982'], ['Rafi', '085623126184']]\n",
      "[['Yudho', '081908880158']]\n",
      "[['Surya', '081387897222']]\n",
      "[['Rizky', '081291809285']]\n",
      "[['Indah', '081309828722']]\n",
      "Rizky: 081291809285\n",
      "[['Rizal', '081809218982'], ['Yudho', '081908880158'], ['Surya', '081387897222'], ['Rizky', '081291809285'], ['Indah', '081309828722']]\n",
      "Indah: 081309828722\n"
     ]
    }
   ],
   "source": [
    "# Hash Map\n",
    "\n",
    "class HashMap:\n",
    "    #inisialisasi hash size dari map ini\n",
    "        def __init__(self):\n",
    "                self.size = 64\n",
    "                self.map = [None] * self.size\n",
    "\t\t\n",
    "        #menentukan hash key dari suatu entri dengan menghitung modulus dari size map ini\n",
    "        def _get_hash(self, key):\n",
    "                hash = 0\n",
    "                for char in str(key):\n",
    "                        hash += ord(char)\n",
    "                return hash % self.size\n",
    "\t\t\n",
    "        #fungsi tambah\n",
    "        def add(self, key, value):\n",
    "                key_hash = self._get_hash(key)\n",
    "                key_value = [key, value]\n",
    "\t\t#jika key_hash ada yang sama, maka akan menuju else\n",
    "                if self.map[key_hash] is None:\n",
    "                        self.map[key_hash] = list([key_value])\n",
    "                        return True\n",
    "        #karena dalam hashmap, satu hash dapat ditempati dua entri sekaligus, maka harus ditambahkan array di masing-masing hash_key\n",
    "                else:\n",
    "                        for pair in self.map[key_hash]:\n",
    "                                if pair[0] == key:\n",
    "                                        pair[1] = value\n",
    "                                        return True\n",
    "                        self.map[key_hash].append(key_value)\n",
    "                        return True\n",
    "\t\t\t\n",
    "        #untuk memanggil suatu entry, menggunakan hash_key\n",
    "        def get(self, key):\n",
    "                key_hash = self._get_hash(key)\n",
    "                if self.map[key_hash] is not None:\n",
    "                        for pair in self.map[key_hash]:\n",
    "                                if pair[0] == key:\n",
    "                                        return pair[1]\n",
    "                return None\n",
    "\t\t\t\n",
    "        #menghapus entri data dengan fungsi pop mengacu kepada hash_key yang ingin dihapus\n",
    "        def delete(self, key):\n",
    "                key_hash = self._get_hash(key)\n",
    "\t\t\n",
    "                if self.map[key_hash] is None:\n",
    "                        return False\n",
    "                for i in range (0, len(self.map[key_hash])):\n",
    "                        if self.map[key_hash][i][0] == key:\n",
    "                                self.map[key_hash].pop(i)\n",
    "                                return True\n",
    "                return False\n",
    "        #self explanatory\n",
    "        def keys(self):\n",
    "                arr = []\n",
    "                for i in range(0, len(self.map)):\n",
    "                        if self.map[i]:\n",
    "                                arr.append(self.map[i][0])\n",
    "                return arr\n",
    "        #self explanatory\n",
    "        def print(self):\n",
    "                print('Buku Telepon')\n",
    "                for item in self.map:\n",
    "                        if item is not None:\n",
    "                                print(str(item))\n",
    "\t\t\t\n",
    "h = HashMap()\n",
    "h.add('Rizky', '081291809285')\n",
    "h.add('Rizal', '081809218982')\n",
    "h.add('Indah', '081309828722')\n",
    "h.add('Yudho', '081908880158')\n",
    "h.add('Surya', '081387897222')\n",
    "h.add('Rafi', '085623126184')\n",
    "h.print()\n",
    "print('Rizky: ' + h.get('Rizky'))\n",
    "print(h.keys())\n",
    "print('Indah: ' + h.get('Indah'))"
   ]
  },
  {
   "cell_type": "code",
   "execution_count": 2,
   "metadata": {},
   "outputs": [
    {
     "name": "stdout",
     "output_type": "stream",
     "text": [
      "Buku Telepon\n",
      "[['Rizal', '081809218982'], ['Rafi', '085623126184']]\n",
      "[['Yudho', '081908880158']]\n",
      "[['Surya', '081387897222']]\n",
      "[['Rizky', '081291809285']]\n",
      "[['Indah', '081309828722']]\n"
     ]
    }
   ],
   "source": [
    "h.print()"
   ]
  },
  {
   "cell_type": "code",
   "execution_count": 3,
   "metadata": {},
   "outputs": [
    {
     "name": "stdout",
     "output_type": "stream",
     "text": [
      "Buku Telepon\n",
      "[['Rizal', '081809218982'], ['Rafi', '085623126184']]\n",
      "[['Yudho', '081908880158']]\n",
      "[['Anto', '081908081171']]\n",
      "[['Surya', '081387897222']]\n",
      "[['Rizky', '081291809285']]\n",
      "[['Indah', '081309828722']]\n"
     ]
    }
   ],
   "source": [
    "h.add('Anto', '081908081171')\n",
    "h.print()"
   ]
  },
  {
   "cell_type": "code",
   "execution_count": 4,
   "metadata": {},
   "outputs": [
    {
     "name": "stdout",
     "output_type": "stream",
     "text": [
      "Rizky: 081291809285\n"
     ]
    }
   ],
   "source": [
    "print('Rizky: ' + h.get('Rizky'))"
   ]
  },
  {
   "cell_type": "code",
   "execution_count": 5,
   "metadata": {},
   "outputs": [
    {
     "data": {
      "text/plain": [
       "True"
      ]
     },
     "execution_count": 5,
     "metadata": {},
     "output_type": "execute_result"
    }
   ],
   "source": [
    "h.add('Rijal', '081234567890')"
   ]
  },
  {
   "cell_type": "code",
   "execution_count": 6,
   "metadata": {},
   "outputs": [
    {
     "data": {
      "text/plain": [
       "True"
      ]
     },
     "execution_count": 6,
     "metadata": {},
     "output_type": "execute_result"
    }
   ],
   "source": [
    "h.add('Eri', '081669699696')"
   ]
  },
  {
   "cell_type": "code",
   "execution_count": 7,
   "metadata": {},
   "outputs": [
    {
     "name": "stdout",
     "output_type": "stream",
     "text": [
      "Buku Telepon\n",
      "[['Rizal', '081809218982'], ['Rafi', '085623126184']]\n",
      "[['Yudho', '081908880158']]\n",
      "[['Anto', '081908081171']]\n",
      "[['Surya', '081387897222']]\n",
      "[['Rizky', '081291809285']]\n",
      "[['Eri', '081669699696']]\n",
      "[['Indah', '081309828722']]\n",
      "[['Rijal', '081234567890']]\n"
     ]
    }
   ],
   "source": [
    "h.print()"
   ]
  },
  {
   "cell_type": "code",
   "execution_count": 8,
   "metadata": {},
   "outputs": [
    {
     "data": {
      "text/plain": [
       "True"
      ]
     },
     "execution_count": 8,
     "metadata": {},
     "output_type": "execute_result"
    }
   ],
   "source": [
    "h.delete('Rafi')"
   ]
  },
  {
   "cell_type": "code",
   "execution_count": 9,
   "metadata": {},
   "outputs": [
    {
     "name": "stdout",
     "output_type": "stream",
     "text": [
      "Buku Telepon\n",
      "[['Rizal', '081809218982']]\n",
      "[['Yudho', '081908880158']]\n",
      "[['Anto', '081908081171']]\n",
      "[['Surya', '081387897222']]\n",
      "[['Rizky', '081291809285']]\n",
      "[['Eri', '081669699696']]\n",
      "[['Indah', '081309828722']]\n",
      "[['Rijal', '081234567890']]\n"
     ]
    }
   ],
   "source": [
    "h.print()"
   ]
  },
  {
   "cell_type": "code",
   "execution_count": 10,
   "metadata": {},
   "outputs": [
    {
     "name": "stdout",
     "output_type": "stream",
     "text": [
      "[['Rizal', '081809218982'], ['Yudho', '081908880158'], ['Anto', '081908081171'], ['Surya', '081387897222'], ['Rizky', '081291809285'], ['Eri', '081669699696'], ['Indah', '081309828722'], ['Rijal', '081234567890']]\n"
     ]
    }
   ],
   "source": [
    "print(h.keys())"
   ]
  },
  {
   "cell_type": "code",
   "execution_count": null,
   "metadata": {},
   "outputs": [],
   "source": []
  }
 ],
 "metadata": {
  "kernelspec": {
   "display_name": "Python 3",
   "language": "python",
   "name": "python3"
  },
  "language_info": {
   "codemirror_mode": {
    "name": "ipython",
    "version": 3
   },
   "file_extension": ".py",
   "mimetype": "text/x-python",
   "name": "python",
   "nbconvert_exporter": "python",
   "pygments_lexer": "ipython3",
   "version": "3.7.3"
  }
 },
 "nbformat": 4,
 "nbformat_minor": 4
}
