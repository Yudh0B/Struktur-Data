{
 "cells": [
  {
   "cell_type": "code",
   "execution_count": 2,
   "metadata": {},
   "outputs": [
    {
     "name": "stdout",
     "output_type": "stream",
     "text": [
      "40\n",
      "20\n",
      "10\n"
     ]
    }
   ],
   "source": [
    "# Python program to demonstrate  \n",
    "# circular linked list traversal \n",
    "# by Kelompok 4\n",
    "  \n",
    "# Structure untuk Node \n",
    "class Node: \n",
    "      \n",
    "    # Constructor to create  a new node \n",
    "    def __init__(self, data): \n",
    "        self.data = data #attribute self.data nantinya digunakan untuk saving data yg dipush ke node\n",
    "        self.next = None \n",
    "\n",
    "class CircularLinkedList: \n",
    "      \n",
    "    # Constructor to create a empty circular linked list \n",
    "    def __init__(self): \n",
    "        self.head = None\n",
    "  \n",
    "    # Function to insert a node at the beginning of a \n",
    "    # circular linked list \n",
    "    def push(self, data): \n",
    "        ptr1 = Node(data) \n",
    "        temp = self.head \n",
    "          \n",
    "        ptr1.next = self.head \n",
    "  \n",
    "        # If linked list is not None then set the next of \n",
    "        # the last node\n",
    "        if self.head is not None: \n",
    "            while(temp.next is not self.head): \n",
    "                temp = temp.next \n",
    "            temp.next = ptr1 \n",
    "  \n",
    "        else: \n",
    "            ptr1.next = ptr1 # For the first node \n",
    "  \n",
    "        self.head = ptr1  \n",
    "  \n",
    "    #Fungsi menghapus node (remove node)\n",
    "    def RemoveNode(self, Removekey):\n",
    "\n",
    "        HeadVal = self.head\n",
    "\n",
    "        if (HeadVal is not None):\n",
    "            if (HeadVal.data == Removekey):\n",
    "                self.head = HeadVal.next\n",
    "                HeadVal = None\n",
    "                return\n",
    "\n",
    "        while (HeadVal is not None):\n",
    "            if (HeadVal.data == Removekey):\n",
    "                break\n",
    "            prev = HeadVal\n",
    "            HeadVal = HeadVal.next\n",
    "            if (HeadVal.data is not Removekey):\n",
    "                print(\"Data tidak ditemukan\")\n",
    "                return\n",
    "        if (HeadVal == None):\n",
    "            print(\"Node kosong/empty\")\n",
    "            return\n",
    "\n",
    "        prev.next = HeadVal.next\n",
    "\n",
    "        HeadVal = None\n",
    "\n",
    "    # Function to print nodes in a given circular linked list \n",
    "    def printList(self): \n",
    "        temp = self.head \n",
    "        if self.head is not None: \n",
    "            while(True): \n",
    "                print(temp.data), \n",
    "                temp = temp.next\n",
    "                if (temp == self.head): \n",
    "                    break\n",
    "                    \n",
    "cllist=CircularLinkedList()\n",
    "cllist.push(10)\n",
    "cllist.push(20)\n",
    "cllist.push(40)\n",
    "\n",
    "cllist.printList() "
   ]
  },
  {
   "cell_type": "code",
   "execution_count": 3,
   "metadata": {},
   "outputs": [
    {
     "name": "stdout",
     "output_type": "stream",
     "text": [
      "40\n",
      "10\n"
     ]
    }
   ],
   "source": [
    "cllist.RemoveNode(20) #removing self.data = 20\n",
    "cllist.printList()"
   ]
  },
  {
   "cell_type": "code",
   "execution_count": 4,
   "metadata": {},
   "outputs": [
    {
     "name": "stdout",
     "output_type": "stream",
     "text": [
      "40\n"
     ]
    }
   ],
   "source": [
    "cllist.RemoveNode(10)\n",
    "cllist.printList()"
   ]
  },
  {
   "cell_type": "code",
   "execution_count": 5,
   "metadata": {},
   "outputs": [
    {
     "name": "stdout",
     "output_type": "stream",
     "text": [
      "Data tidak ditemukan\n",
      "40\n"
     ]
    }
   ],
   "source": [
    "cllist.RemoveNode(30)\n",
    "cllist.printList()"
   ]
  },
  {
   "cell_type": "code",
   "execution_count": 6,
   "metadata": {},
   "outputs": [
    {
     "name": "stdout",
     "output_type": "stream",
     "text": [
      "40\n"
     ]
    }
   ],
   "source": [
    "#masih ada kesalahan dalam algoritma RemoveNode, dimana saat isi node tinggal 1,\n",
    "#data tidak mau diremove\n",
    "cllist.RemoveNode(40)\n",
    "cllist.printList()"
   ]
  },
  {
   "cell_type": "code",
   "execution_count": 7,
   "metadata": {},
   "outputs": [
    {
     "name": "stdout",
     "output_type": "stream",
     "text": [
      "5\n",
      "60\n",
      "20\n",
      "3\n",
      "50\n",
      "40\n"
     ]
    }
   ],
   "source": [
    "cllist.push(50)\n",
    "cllist.push(3)\n",
    "cllist.push(20)\n",
    "cllist.push(60)\n",
    "cllist.push(5)\n",
    "cllist.printList()"
   ]
  },
  {
   "cell_type": "code",
   "execution_count": 8,
   "metadata": {},
   "outputs": [
    {
     "name": "stdout",
     "output_type": "stream",
     "text": [
      "Data tidak ditemukan\n",
      "5\n",
      "60\n",
      "20\n",
      "3\n",
      "50\n",
      "40\n"
     ]
    }
   ],
   "source": [
    "cllist.RemoveNode(40)\n",
    "cllist.printList()"
   ]
  },
  {
   "cell_type": "code",
   "execution_count": 11,
   "metadata": {},
   "outputs": [
    {
     "name": "stdout",
     "output_type": "stream",
     "text": [
      "60\n",
      "3\n",
      "50\n",
      "40\n",
      "5\n"
     ]
    }
   ],
   "source": [
    "cllist.RemoveNode(20)\n",
    "cllist.printList()"
   ]
  },
  {
   "cell_type": "code",
   "execution_count": 12,
   "metadata": {},
   "outputs": [
    {
     "name": "stdout",
     "output_type": "stream",
     "text": [
      "Data tidak ditemukan\n",
      "60\n",
      "3\n",
      "50\n",
      "40\n",
      "5\n"
     ]
    }
   ],
   "source": [
    "cllist.RemoveNode(5)\n",
    "cllist.printList()"
   ]
  },
  {
   "cell_type": "code",
   "execution_count": null,
   "metadata": {},
   "outputs": [],
   "source": []
  }
 ],
 "metadata": {
  "kernelspec": {
   "display_name": "Python 3",
   "language": "python",
   "name": "python3"
  },
  "language_info": {
   "codemirror_mode": {
    "name": "ipython",
    "version": 3
   },
   "file_extension": ".py",
   "mimetype": "text/x-python",
   "name": "python",
   "nbconvert_exporter": "python",
   "pygments_lexer": "ipython3",
   "version": "3.7.3"
  }
 },
 "nbformat": 4,
 "nbformat_minor": 4
}
